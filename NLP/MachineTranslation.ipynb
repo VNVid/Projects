{
  "cells": [
    {
      "cell_type": "markdown",
      "metadata": {
        "id": "6raI4E_fPsAW"
      },
      "source": [
        "## Neural Machine Translation\n"
      ]
    },
    {
      "cell_type": "code",
      "source": [
        "!nvidia-smi"
      ],
      "metadata": {
        "colab": {
          "base_uri": "https://localhost:8080/"
        },
        "id": "qoN7JdL1z1YZ",
        "outputId": "31c706b9-2210-43ef-c865-a3b662fa2771"
      },
      "execution_count": null,
      "outputs": [
        {
          "output_type": "stream",
          "name": "stdout",
          "text": [
            "Tue May 10 16:36:15 2022       \n",
            "+-----------------------------------------------------------------------------+\n",
            "| NVIDIA-SMI 460.32.03    Driver Version: 460.32.03    CUDA Version: 11.2     |\n",
            "|-------------------------------+----------------------+----------------------+\n",
            "| GPU  Name        Persistence-M| Bus-Id        Disp.A | Volatile Uncorr. ECC |\n",
            "| Fan  Temp  Perf  Pwr:Usage/Cap|         Memory-Usage | GPU-Util  Compute M. |\n",
            "|                               |                      |               MIG M. |\n",
            "|===============================+======================+======================|\n",
            "|   0  Tesla T4            Off  | 00000000:00:04.0 Off |                    0 |\n",
            "| N/A   38C    P8     9W /  70W |      0MiB / 15109MiB |      0%      Default |\n",
            "|                               |                      |                  N/A |\n",
            "+-------------------------------+----------------------+----------------------+\n",
            "                                                                               \n",
            "+-----------------------------------------------------------------------------+\n",
            "| Processes:                                                                  |\n",
            "|  GPU   GI   CI        PID   Type   Process name                  GPU Memory |\n",
            "|        ID   ID                                                   Usage      |\n",
            "|=============================================================================|\n",
            "|  No running processes found                                                 |\n",
            "+-----------------------------------------------------------------------------+\n"
          ]
        }
      ]
    },
    {
      "cell_type": "code",
      "execution_count": null,
      "metadata": {
        "id": "ORBsRFA-PsAY",
        "colab": {
          "base_uri": "https://localhost:8080/"
        },
        "outputId": "8480106b-4972-44a4-e71d-7f1d3704aba9"
      },
      "outputs": [
        {
          "output_type": "stream",
          "name": "stdout",
          "text": [
            "File ‘data.txt’ already there; not retrieving.\n",
            "\n"
          ]
        }
      ],
      "source": [
        "# Data taken from YSDA NLP course\n",
        "!wget -nc https://raw.githubusercontent.com/girafe-ai/ml-mipt/master/datasets/Machine_translation_EN_RU/data.txt"
      ]
    },
    {
      "cell_type": "markdown",
      "metadata": {
        "id": "3ihZ_nVUmsyC"
      },
      "source": [
        "The `data.txt` is a tsv file, each line of which contains a sentence in english and a corresponding translation, separated by `\\t`. We'll load it into memory and create a list of pairs, which would yield the same interface as with the torchtext's datasets."
      ]
    },
    {
      "cell_type": "code",
      "execution_count": null,
      "metadata": {
        "id": "_wzRffwfgizj",
        "colab": {
          "base_uri": "https://localhost:8080/"
        },
        "outputId": "926db171-6a08-4e74-eeef-7d3c63d39895"
      },
      "outputs": [
        {
          "output_type": "stream",
          "name": "stdout",
          "text": [
            "Dataset size 50,000\n",
            "Sample:\n"
          ]
        },
        {
          "output_type": "execute_result",
          "data": {
            "text/plain": [
              "[['Cordelia Hotel is situated in Tbilisi, a 3-minute walk away from Saint Trinity Church.',\n",
              "  'Отель Cordelia расположен в Тбилиси, в 3 минутах ходьбы от Свято-Троицкого собора.'],\n",
              " ['At Tupirmarka Lodge you will find a 24-hour front desk, room service, and a snack bar.',\n",
              "  'В числе удобств лоджа Tupirmarka круглосуточная стойка регистрации и снэк-бар. Гости могут воспользоваться услугой доставки еды и напитков в номер.'],\n",
              " ['Featuring free WiFi in all areas, Naigao Xiaowo offers accommodation in Shanghai.',\n",
              "  'Апартаменты Naigao Xiaowo расположены в городе Шанхай. К услугам гостей бесплатный Wi-Fi во всех зонах.'],\n",
              " ['Each has a TV and a private bathroom with shower.',\n",
              "  'В вашем распоряжении также телевизор и собственная ванная комната с душем.'],\n",
              " ['Your room comes with air conditioning and satellite TV.',\n",
              "  'Номер оснащен кондиционером и спутниковым телевидением.']]"
            ]
          },
          "metadata": {},
          "execution_count": 2
        }
      ],
      "source": [
        "with open(\"data.txt\") as f:\n",
        "    data = [l.rstrip().split(\"\\t\") for l in f]\n",
        "\n",
        "print(f\"Dataset size {len(data):,}\")\n",
        "print(\"Sample:\")\n",
        "data[:5]"
      ]
    },
    {
      "cell_type": "markdown",
      "metadata": {
        "id": "BjDuhDOWPsAa"
      },
      "source": [
        "## Data preprocessing"
      ]
    },
    {
      "cell_type": "markdown",
      "metadata": {
        "id": "RW41CAd1ofXD"
      },
      "source": [
        "Splitting our dataset into train, test and validation."
      ]
    },
    {
      "cell_type": "code",
      "execution_count": null,
      "metadata": {
        "id": "GXYV0vWaolpm",
        "colab": {
          "base_uri": "https://localhost:8080/"
        },
        "outputId": "c6062576-9f01-4151-ead0-7ba816358ae1"
      },
      "outputs": [
        {
          "output_type": "stream",
          "name": "stdout",
          "text": [
            "Train size: 40000\n",
            "Test size: 7500\n",
            "Val size: 2500\n"
          ]
        }
      ],
      "source": [
        "import torch\n",
        "from torch.utils.data import random_split\n",
        "\n",
        "\n",
        "data_size = len(data)\n",
        "train_size = int(0.8 * data_size)\n",
        "test_size = int(0.15 * data_size)\n",
        "val_size = data_size - train_size - test_size\n",
        "train_data, test_data, val_data = random_split(\n",
        "    data, [train_size, test_size, val_size], generator=torch.Generator().manual_seed(42)\n",
        ")\n",
        "print(f\"Train size: {len(train_data)}\")\n",
        "print(f\"Test size: {len(test_data)}\")\n",
        "print(f\"Val size: {len(val_data)}\")"
      ]
    },
    {
      "cell_type": "code",
      "execution_count": null,
      "metadata": {
        "id": "6sGsE2moPsAa"
      },
      "outputs": [],
      "source": [
        "from nltk.tokenize import WordPunctTokenizer\n",
        "\n",
        "\n",
        "tokenizer = WordPunctTokenizer()\n",
        "\n",
        "\n",
        "def tokenize(sent):\n",
        "    return tokenizer.tokenize(sent.lower())"
      ]
    },
    {
      "cell_type": "code",
      "execution_count": null,
      "metadata": {
        "id": "LmshoKhRpQVj"
      },
      "outputs": [],
      "source": [
        "\n",
        "from collections import Counter\n",
        "\n",
        "from torchtext.vocab import vocab as Vocab\n",
        "\n",
        "\n",
        "src_counter = Counter()\n",
        "trg_counter = Counter()\n",
        "for src, trg in train_data:\n",
        "    src_counter.update(tokenize(src))\n",
        "    trg_counter.update(tokenize(trg))\n",
        "\n",
        "src_vocab = Vocab(src_counter, min_freq=3)\n",
        "trg_vocab = Vocab(trg_counter, min_freq=3)"
      ]
    },
    {
      "cell_type": "code",
      "execution_count": null,
      "metadata": {
        "id": "RxBsel4JpaTP",
        "colab": {
          "base_uri": "https://localhost:8080/"
        },
        "outputId": "e3ac80d0-fb05-47ac-fbc7-d67ce8adb3d3"
      },
      "outputs": [
        {
          "output_type": "stream",
          "name": "stdout",
          "text": [
            "Source (en) vocabulary size: 6711\n",
            "Target (ru) vocabulary size: 9310\n"
          ]
        }
      ],
      "source": [
        "unk_token = \"<unk>\"\n",
        "sos_token, eos_token, pad_token = \"<sos>\", \"<eos>\", \"<pad>\"\n",
        "specials = [sos_token, eos_token, pad_token]\n",
        "\n",
        "for vocab in [src_vocab, trg_vocab]:\n",
        "    if unk_token not in vocab:\n",
        "        vocab.insert_token(unk_token, index=0)\n",
        "        vocab.set_default_index(0)\n",
        "\n",
        "    for token in specials:\n",
        "        if token not in vocab:\n",
        "            vocab.append_token(token)\n",
        "\n",
        "print(f\"Source (en) vocabulary size: {len(src_vocab)}\")\n",
        "print(f\"Target (ru) vocabulary size: {len(trg_vocab)}\")"
      ]
    },
    {
      "cell_type": "code",
      "execution_count": null,
      "metadata": {
        "id": "DpFjrwNHpiZq"
      },
      "outputs": [],
      "source": [
        "def encode(sent, vocab):\n",
        "    tokenized = [sos_token] + tokenize(sent) + [eos_token]\n",
        "    return [vocab[tok] for tok in tokenized]"
      ]
    },
    {
      "cell_type": "code",
      "execution_count": null,
      "metadata": {
        "id": "QpWUg9RuqGXm",
        "colab": {
          "base_uri": "https://localhost:8080/"
        },
        "outputId": "2c661c2d-d4c4-4ff4-c630-932aded3a0b0"
      },
      "outputs": [
        {
          "output_type": "execute_result",
          "data": {
            "text/plain": [
              "(torch.Size([39, 100]), torch.Size([36, 100]))"
            ]
          },
          "metadata": {},
          "execution_count": 8
        }
      ],
      "source": [
        "from torch.nn.utils.rnn import pad_sequence\n",
        "from torch.utils.data import DataLoader\n",
        "\n",
        "\n",
        "def collate_batch(batch):\n",
        "    src_list, trg_list = [], []\n",
        "    for src, trg in batch:\n",
        "        src_encoded = encode(src, src_vocab)\n",
        "        src_list.append(torch.tensor(src_encoded))\n",
        "\n",
        "        trg_encoded = encode(trg, trg_vocab)\n",
        "        trg_list.append(torch.tensor(trg_encoded))\n",
        "\n",
        "    src_padded = pad_sequence(src_list, padding_value=src_vocab[pad_token])\n",
        "    trg_padded = pad_sequence(trg_list, padding_value=trg_vocab[pad_token])\n",
        "    return src_padded, trg_padded\n",
        "\n",
        "\n",
        "batch_size = 100\n",
        "train_dataloader = DataLoader(train_data, batch_size, shuffle=True, collate_fn=collate_batch)\n",
        "val_dataloader = DataLoader(val_data, batch_size, shuffle=False, collate_fn=collate_batch)\n",
        "test_dataloader = DataLoader(test_data, batch_size, shuffle=False, collate_fn=collate_batch)\n",
        "\n",
        "src_batch, trg_batch = next(iter(train_dataloader))\n",
        "src_batch.shape, trg_batch.shape"
      ]
    },
    {
      "cell_type": "markdown",
      "metadata": {
        "id": "8nvNQhzfPsAe"
      },
      "source": [
        "## Model side"
      ]
    },
    {
      "cell_type": "code",
      "execution_count": null,
      "metadata": {
        "id": "wKXxEXwFtMPP"
      },
      "outputs": [],
      "source": [
        "import random\n",
        "\n",
        "import torch.nn as nn\n",
        "\n",
        "\n",
        "class Encoder(nn.Module):\n",
        "    def __init__(self, n_tokens, emb_dim, hid_dim, n_layers, dropout):\n",
        "        super().__init__()\n",
        "\n",
        "        self.n_tokens = n_tokens\n",
        "        self.hid_dim = hid_dim\n",
        "        self.n_layers = n_layers\n",
        "\n",
        "        self.embedding = nn.Embedding(n_tokens, emb_dim)\n",
        "        self.dropout = nn.Dropout(dropout)\n",
        "        self.rnn = nn.LSTM(emb_dim, hid_dim, n_layers, dropout=dropout)\n",
        "\n",
        "    def forward(self, src):\n",
        "        embedded = self.embedding(src)\n",
        "        embedded = self.dropout(embedded)\n",
        "        _, hidden = self.rnn(embedded)\n",
        "        return hidden\n",
        "\n",
        "\n",
        "class Decoder(nn.Module):\n",
        "    def __init__(self, n_tokens, emb_dim, hid_dim, n_layers, dropout):\n",
        "        super().__init__()\n",
        "\n",
        "        self.n_tokens = n_tokens\n",
        "        self.hid_dim = hid_dim\n",
        "        self.n_layers = n_layers\n",
        "\n",
        "        self.embedding = nn.Embedding(n_tokens, emb_dim)\n",
        "        self.dropout = nn.Dropout(dropout)\n",
        "        self.rnn = nn.LSTM(emb_dim, hid_dim, n_layers, dropout=dropout)\n",
        "        self.out = nn.Linear(hid_dim, n_tokens)\n",
        "\n",
        "    def forward(self, input, hidden):\n",
        "        input = input.unsqueeze(dim=0)\n",
        "        embedded = self.embedding(input)\n",
        "        embedded = self.dropout(embedded)\n",
        "\n",
        "        output, hidden = self.rnn(embedded, hidden)\n",
        "        pred = self.out(output.squeeze(dim=0))\n",
        "        return pred, hidden\n",
        "\n",
        "\n",
        "class Seq2Seq(nn.Module):\n",
        "    def __init__(self, encoder, decoder):\n",
        "        super().__init__()\n",
        "\n",
        "        self.encoder = encoder\n",
        "        self.decoder = decoder\n",
        "\n",
        "        assert encoder.hid_dim == decoder.hid_dim, \"encoder and decoder must have same hidden dim\"\n",
        "        assert (\n",
        "            encoder.n_layers == decoder.n_layers\n",
        "        ), \"encoder and decoder must have equal number of layers\"\n",
        "\n",
        "    def forward(self, src, trg, teacher_forcing_ratio=0.5):\n",
        "        trg_len, batch_size = trg.shape\n",
        "        preds = []\n",
        "        hidden = self.encoder(src)\n",
        "\n",
        "        # First input to the decoder is the <sos> token.\n",
        "        input = trg[0, :]\n",
        "        for i in range(1, trg_len):\n",
        "            pred, hidden = self.decoder(input, hidden)\n",
        "            preds.append(pred)\n",
        "            teacher_force = random.random() < teacher_forcing_ratio\n",
        "            _, top_pred = pred.max(dim=1)\n",
        "            input = trg[i, :] if teacher_force else top_pred\n",
        "\n",
        "        return torch.stack(preds)"
      ]
    },
    {
      "cell_type": "code",
      "execution_count": null,
      "metadata": {
        "id": "jQ3w4pdDPsAf"
      },
      "outputs": [],
      "source": [
        "device = torch.device(\"cuda:0\" if torch.cuda.is_available() else \"cpu\")\n",
        "enc = Encoder(len(src_vocab), emb_dim=256, hid_dim=512, n_layers=2, dropout=0.5)\n",
        "dec = Decoder(len(trg_vocab), emb_dim=256, hid_dim=512, n_layers=2, dropout=0.5)\n",
        "model = Seq2Seq(enc, dec).to(device)"
      ]
    },
    {
      "cell_type": "code",
      "execution_count": null,
      "metadata": {
        "id": "4_-hFxcyPsAf"
      },
      "outputs": [],
      "source": [
        "def init_weights(m):\n",
        "    for name, param in m.named_parameters():\n",
        "        nn.init.uniform_(param, -0.08, 0.08)\n",
        "\n",
        "\n",
        "model.apply(init_weights);"
      ]
    },
    {
      "cell_type": "code",
      "execution_count": null,
      "metadata": {
        "id": "15zD2R7cPsAg",
        "colab": {
          "base_uri": "https://localhost:8080/"
        },
        "outputId": "28e48552-b359-4aeb-d8fa-d92c06f858e3"
      },
      "outputs": [
        {
          "output_type": "stream",
          "name": "stdout",
          "text": [
            "The model has 16,233,822 trainable parameters\n"
          ]
        }
      ],
      "source": [
        "def count_parameters(model):\n",
        "    return sum(p.numel() for p in model.parameters() if p.requires_grad)\n",
        "\n",
        "\n",
        "print(f\"The model has {count_parameters(model):,} trainable parameters\")"
      ]
    },
    {
      "cell_type": "code",
      "execution_count": null,
      "metadata": {
        "id": "cG45OrPDPsAg"
      },
      "outputs": [],
      "source": [
        "optimizer = torch.optim.Adam(model.parameters())\n",
        "criterion = nn.CrossEntropyLoss(ignore_index=trg_vocab[pad_token])\n",
        "loss_history, train_loss_history, val_loss_history = [], [], []"
      ]
    },
    {
      "cell_type": "code",
      "execution_count": null,
      "metadata": {
        "id": "sFsx5PcCudiG",
        "colab": {
          "base_uri": "https://localhost:8080/",
          "height": 369
        },
        "outputId": "e7682247-4d8a-4a31-b4e1-ad1b5091ffd3"
      },
      "outputs": [
        {
          "output_type": "display_data",
          "data": {
            "text/plain": [
              "<Figure size 1080x360 with 2 Axes>"
            ],
            "image/png": "[encoded data removed]"
          },
          "metadata": {
            "needs_background": "light"
          }
        },
        {
          "output_type": "stream",
          "name": "stdout",
          "text": [
            "Number of epoches: 10\n",
            "Training time:  636.8011515140533 seconds \n"
          ]
        }
      ],
      "source": [
        "import matplotlib.pyplot as plt\n",
        "from IPython.display import clear_output\n",
        "from torch.nn.utils import clip_grad_norm_\n",
        "import time\n",
        "\n",
        "start_time = time.time()\n",
        "\n",
        "\n",
        "n_epochs = 10\n",
        "clip = 1\n",
        "for epoch in range(n_epochs):\n",
        "    model.train()\n",
        "    train_loss = 0\n",
        "    for src, trg in train_dataloader:\n",
        "        src, trg = src.to(device), trg.to(device)\n",
        "        output = model(src, trg)\n",
        "\n",
        "        output = output.view(-1, output.shape[-1])\n",
        "        trg = trg[1:].view(-1)\n",
        "\n",
        "        loss = criterion(output, trg)\n",
        "        optimizer.zero_grad()\n",
        "        loss.backward()\n",
        "        clip_grad_norm_(model.parameters(), clip)\n",
        "        optimizer.step()\n",
        "\n",
        "        train_loss += loss.item()\n",
        "        loss_history.append(loss.item())\n",
        "\n",
        "        if len(loss_history) % 10 == 0:\n",
        "            clear_output(wait=True)\n",
        "\n",
        "            plt.figure(figsize=(15, 5))\n",
        "\n",
        "            plt.subplot(121)\n",
        "            plt.plot(loss_history)\n",
        "            plt.xlabel(\"step\")\n",
        "\n",
        "            plt.subplot(122)\n",
        "            plt.plot(train_loss_history, label=\"train loss\")\n",
        "            plt.plot(val_loss_history, label=\"val loss\")\n",
        "            plt.xlabel(\"epoch\")\n",
        "            plt.legend()\n",
        "\n",
        "            plt.show()\n",
        "\n",
        "    train_loss /= len(train_dataloader)\n",
        "    train_loss_history.append(train_loss)\n",
        "\n",
        "    model.eval()\n",
        "    val_loss = 0\n",
        "    with torch.no_grad():\n",
        "        for src, trg in val_dataloader:\n",
        "            src, trg = src.to(device), trg.to(device)\n",
        "            output = model(src, trg)\n",
        "\n",
        "            output = output.view(-1, output.shape[-1])\n",
        "            trg = trg[1:].view(-1)\n",
        "\n",
        "            loss = criterion(output, trg)\n",
        "\n",
        "            val_loss += loss.item()\n",
        "\n",
        "    val_loss /= len(val_dataloader)\n",
        "    val_loss_history.append(val_loss)\n",
        "\n",
        "print(\"Number of epoches: %s\" % n_epochs)\n",
        "print(\"Training time:  %s seconds \" % (time.time() - start_time))"
      ]
    },
    {
      "cell_type": "markdown",
      "metadata": {
        "id": "Cp3-T3dDPsAg"
      },
      "source": [
        "## Model evaluation"
      ]
    },
    {
      "cell_type": "code",
      "execution_count": null,
      "metadata": {
        "id": "JtYccOGpPsAh",
        "colab": {
          "base_uri": "https://localhost:8080/"
        },
        "outputId": "3e1323df-f2a0-4437-b105-2c6c09d6c7ed"
      },
      "outputs": [
        {
          "output_type": "stream",
          "name": "stdout",
          "text": [
            "src: 'all apartments have a dvd player and satellite tv, a kitchen with a microwave, and a washing machine and a tumble dryer.'\n",
            "trg: 'все они оснащены телевизором со спутниковыми каналами и dvd-плеером, а также располагают кухней с микроволновой печью и стиральной/сушильной машиной.'\n",
            "pred: 'в распоряжении гостей мини - кухня с духовкой , микроволновой печью , холодильником , а также , , , , , и и и .'\n",
            "\n",
            "src: 'they are fitted with blackout curtains, free drinking water and free toiletries.'\n",
            "trg: 'гостям предоставляется бесплатная питьевая вода и бесплатные туалетно-косметическими принадлежности.'\n",
            "pred: 'во всех номерах есть <unk> , , холодильник , письменный стол и постельное белье .'\n",
            "\n",
            "src: 'a small refrigerator, coffee-making facilities and a work desk are included.'\n",
            "trg: 'к услугам гостей также небольшой холодильник, принадлежности для кофе и рабочий стол.'\n",
            "pred: 'в числе удобств — , , , , , , , , и гладильные принадлежности .'\n",
            "\n",
            "src: 'only 250 metres away, paral•lel metro station offers direct links to plaça catalunya and montjuïc hill.'\n",
            "trg: 'всего в 250 метрах расположена станция метро paral•lel, откуда можно без пересадок добраться до площади каталонии и горы монжуик.'\n",
            "pred: 'в <unk> <unk> <unk> <unk> <unk> <unk> <unk> <unk> , <unk> в 5 минутах ходьбы от отеля , а до <unk> <unk> - <unk> - <unk> - <unk> .'\n",
            "\n",
            "src: 'the apartment will provide you with a satellite tv and air conditioning.there is a full a kitchen with a dishwasher and a refrigerator.'\n",
            "trg: 'апартаменты оснащены кондиционером и спутниковым телевидением. полноценная кухня оборудована посудомоечной машиной и холодильником.'\n",
            "pred: 'в распоряжении гостей кухня с микроволновой печью , микроволновой печью , а также мини - кухня с посудомоечной машиной и холодильником .'\n",
            "\n",
            "src: 'cooked breakfast is served each morning at monk coniston, with a buffet selection including cereals, fresh fruit, yoghurts, croissants and pastries. there is also porridge, toast, juice, tea and coffee.'\n",
            "trg: 'каждое утро в загородном доме monk coniston сервируют полный английский завтрак и завтрак «шведский стол» с зерновыми хлопьями, свежими фруктами, йогуртами, круассанами и выпечкой, а также овсянкой, тостами, соком, чаем и кофе.'\n",
            "pred: 'в отеле , в стоимость проживания , <unk> , , , , , , , , , , , , , , , , , , , , , , , , , , , , , , , , и <unk> .'\n",
            "\n",
            "src: 'the hotel’s position on the rua de santa catarina shopping street offers convenient access to boutiques, bars and eateries.'\n",
            "trg: 'местоположение отеля на торговой улице руа-де-санта-катарина позволит гостям с легкостью добраться до бутиков, баров и кафе.'\n",
            "pred: 'в отеле <unk> <unk> <unk> <unk> <unk> <unk> <unk> <unk> , <unk> в <unk> минутах ходьбы от отеля <unk> <unk> <unk> <unk> <unk> .'\n",
            "\n",
            "src: 'it also has a tranquil garden terrace.'\n",
            "trg: 'на тихой террасе разбит сад.'\n",
            "pred: 'в в распоряжении гостей обеденная зона и'\n",
            "\n",
            "src: 'offering accommodation with air conditioning, residenza romana zucchelli is set in rome, 200 metres from piazza barberini. piazza di spagna is 400 metres from the property.'\n",
            "trg: 'комплекс residenza romana zucchelli расположен в риме, в 200 метрах от площади барберини и в 400 метрах от площади испании.'\n",
            "pred: 'апартаменты <unk> расположены в городе <unk> , в 10 минутах ходьбы от пляжа <unk> и в 10 минутах ходьбы от пляжа <unk> и в 1 , от км от пляжа .'\n",
            "\n",
            "src: 'parking is free on site.'\n",
            "trg: 'на территории предоставляется бесплатная парковка.'\n",
            "pred: 'кухня , а также бесплатный wi - fi .'\n",
            "\n",
            "src: 'guests can find a free internet point and free beach towels during their stay.'\n",
            "trg: 'во время пребывания на территории бесплатно предоставляются пляжные полотенца и доступ в интернет.'\n",
            "pred: 'в числе удобств — , , , бесплатный wi - fi .'\n",
            "\n"
          ]
        }
      ],
      "source": [
        "trg_itos = trg_vocab.get_itos()\n",
        "model.eval()\n",
        "max_len = 50\n",
        "with torch.no_grad():\n",
        "    for i, (src, trg) in enumerate(val_data):\n",
        "        encoded = encode(src, src_vocab)[::-1]\n",
        "        encoded = torch.tensor(encoded)[:, None].to(device)\n",
        "        hidden = model.encoder(encoded)\n",
        "\n",
        "        pred_tokens = [trg_vocab[sos_token]]\n",
        "        for _ in range(max_len):\n",
        "            decoder_input = torch.tensor([pred_tokens[-1]]).to(device)\n",
        "            pred, hidden = model.decoder(decoder_input, hidden)\n",
        "            _, pred_token = pred.max(dim=1)\n",
        "            if pred_token == trg_vocab[eos_token]:\n",
        "                break\n",
        "\n",
        "            pred_tokens.append(pred_token.item())\n",
        "\n",
        "        print(f\"src: '{src.rstrip().lower()}'\")\n",
        "        print(f\"trg: '{trg.rstrip().lower()}'\")\n",
        "        print(f\"pred: '{' '.join(trg_itos[i] for i in pred_tokens[1:])}'\")\n",
        "        print()\n",
        "\n",
        "        if i == 10:\n",
        "            break"
      ]
    },
    {
      "cell_type": "markdown",
      "metadata": {
        "id": "kJsWrg5Z1phB"
      },
      "source": [
        "The metric used for evaluation will be BLEU.\n",
        "Here is how it is calculated:"
      ]
    },
    {
      "cell_type": "code",
      "execution_count": null,
      "metadata": {
        "id": "hogEKcmOPsAh",
        "colab": {
          "base_uri": "https://localhost:8080/"
        },
        "outputId": "145e622e-1311-414c-f5ad-16f1f9ec04ec"
      },
      "outputs": [
        {
          "output_type": "stream",
          "name": "stdout",
          "text": [
            "Your model shows test BLEU of 11.9\n"
          ]
        }
      ],
      "source": [
        "from nltk.translate.bleu_score import corpus_bleu\n",
        "\n",
        "\n",
        "references, hypotheses = [], []\n",
        "with torch.no_grad():\n",
        "    for src, trg in test_dataloader:\n",
        "        output = model(src.to(device), trg.to(device), teacher_forcing_ratio=0)\n",
        "        output = output.cpu().numpy().argmax(axis=2)\n",
        "\n",
        "        for i in range(trg.shape[1]):\n",
        "            reference = trg[:, i]\n",
        "            reference_tokens = [trg_itos[id_] for id_ in reference]\n",
        "            reference_tokens = [tok for tok in reference_tokens if tok not in specials]\n",
        "            references.append(reference_tokens)\n",
        "\n",
        "            hypothesis = output[:, i]\n",
        "            hypothesis_tokens = [trg_itos[id_] for id_ in hypothesis]\n",
        "            hypothesis_tokens = [tok for tok in hypothesis_tokens if tok not in specials]\n",
        "            hypotheses.append(hypothesis_tokens)\n",
        "\n",
        "# corpus_bleu works with multiple references\n",
        "bleu = corpus_bleu([[ref] for ref in references], hypotheses)\n",
        "print(f\"Your model shows test BLEU of {100 * bleu:.1f}\")"
      ]
    },
    {
      "cell_type": "code",
      "source": [
        "def init_weights(m):\n",
        "    for name, param in m.named_parameters():\n",
        "        nn.init.uniform_(param, -0.08, 0.08)\n",
        "\n",
        "def count_parameters(model):\n",
        "    return sum(p.numel() for p in model.parameters() if p.requires_grad)"
      ],
      "metadata": {
        "id": "DpTLLXFxglcA"
      },
      "execution_count": null,
      "outputs": []
    },
    {
      "cell_type": "markdown",
      "source": [
        "# Bidirectional LSTM"
      ],
      "metadata": {
        "id": "_T8oAJYO-ao-"
      }
    },
    {
      "cell_type": "markdown",
      "source": [
        "**Let's first try some simple enhancements: use bidirectional LSTM encoder and increase number of LSTM layers in encoder and decoder.**"
      ],
      "metadata": {
        "id": "2Bg3XOxCVrA7"
      }
    },
    {
      "cell_type": "code",
      "source": [
        "import random\n",
        "\n",
        "import torch.nn as nn\n",
        "\n",
        "\n",
        "class BidirectionalLSTMEncoder(nn.Module):\n",
        "    def __init__(self, n_tokens, emb_dim, hid_dim, n_layers, dropout):\n",
        "        super().__init__()\n",
        "\n",
        "        self.n_tokens = n_tokens\n",
        "        self.hid_dim = hid_dim\n",
        "        self.n_layers = n_layers\n",
        "\n",
        "        self.embedding = nn.Embedding(n_tokens, emb_dim)\n",
        "        self.dropout = nn.Dropout(dropout)\n",
        "        self.rnn = nn.LSTM(emb_dim, hid_dim, n_layers, dropout=dropout, bidirectional=True)\n",
        "\n",
        "    def forward(self, src):\n",
        "        embedded = self.embedding(src)\n",
        "        embedded = self.dropout(embedded)\n",
        "        _, hidden = self.rnn(embedded)\n",
        "        batch_size = src.shape[-1]\n",
        "        return (hidden[0].permute(1,0,2).reshape(batch_size, self.n_layers, -1).permute(1,0,2).contiguous(), \n",
        "                hidden[1].permute(1,0,2).reshape(batch_size, self.n_layers, -1).permute(1,0,2).contiguous())\n",
        "\n",
        "\n",
        "class BidirectionalDecoder(nn.Module):\n",
        "    def __init__(self, n_tokens, emb_dim, hid_dim, n_layers, dropout):\n",
        "        super().__init__()\n",
        "        decoder_hid_dim = hid_dim * 2\n",
        "        self.n_tokens = n_tokens\n",
        "        self.hid_dim = hid_dim\n",
        "        self.n_layers = n_layers\n",
        "\n",
        "        self.embedding = nn.Embedding(n_tokens, emb_dim)\n",
        "        self.dropout = nn.Dropout(dropout)\n",
        "        self.rnn = nn.LSTM(emb_dim, decoder_hid_dim, n_layers, dropout=dropout)\n",
        "        self.out = nn.Linear(decoder_hid_dim, n_tokens)\n",
        "\n",
        "    def forward(self, input, hidden):\n",
        "        input = input.unsqueeze(dim=0)\n",
        "        embedded = self.embedding(input)\n",
        "        embedded = self.dropout(embedded)\n",
        "\n",
        "        output, hidden = self.rnn(embedded, hidden)\n",
        "        pred = self.out(output.squeeze(dim=0))\n",
        "        return pred, hidden\n",
        "\n",
        "class Seq2Seq(nn.Module):\n",
        "    def __init__(self, encoder, decoder):\n",
        "        super().__init__()\n",
        "\n",
        "        self.encoder = encoder\n",
        "        self.decoder = decoder\n",
        "\n",
        "        assert encoder.hid_dim == decoder.hid_dim, \"encoder and decoder must have same hidden dim\"\n",
        "        assert (\n",
        "            encoder.n_layers == decoder.n_layers\n",
        "        ), \"encoder and decoder must have equal number of layers\"\n",
        "\n",
        "    def forward(self, src, trg, teacher_forcing_ratio=0.5):\n",
        "        trg_len, batch_size = trg.shape\n",
        "        preds = []\n",
        "        hidden = self.encoder(src)\n",
        "\n",
        "        # First input to the decoder is the <sos> token.\n",
        "        input = trg[0, :]\n",
        "        for i in range(1, trg_len):\n",
        "            pred, hidden = self.decoder(input, hidden)\n",
        "            preds.append(pred)\n",
        "            teacher_force = random.random() < teacher_forcing_ratio\n",
        "            _, top_pred = pred.max(dim=1)\n",
        "            input = trg[i, :] if teacher_force else top_pred\n",
        "\n",
        "        return torch.stack(preds)"
      ],
      "metadata": {
        "id": "yc05itjuQKoD"
      },
      "execution_count": null,
      "outputs": []
    },
    {
      "cell_type": "code",
      "source": [
        "device = torch.device(\"cuda:0\" if torch.cuda.is_available() else \"cpu\")\n",
        "enc = BidirectionalLSTMEncoder(len(src_vocab), emb_dim=256, hid_dim=512, n_layers=4, dropout=0.5)\n",
        "dec = BidirectionalDecoder(len(trg_vocab), emb_dim=256, hid_dim=512, n_layers=4, dropout=0.5)\n",
        "model = Seq2Seq(enc, dec).to(device)\n",
        "model.apply(init_weights);\n",
        "print(f\"The model has {count_parameters(model):,} trainable parameters\")"
      ],
      "metadata": {
        "colab": {
          "base_uri": "https://localhost:8080/"
        },
        "id": "dSiXgz_oQLbC",
        "outputId": "ca67c4be-ad58-4fe2-905a-07af2b345f85"
      },
      "execution_count": null,
      "outputs": [
        {
          "output_type": "stream",
          "name": "stdout",
          "text": [
            "The model has 66,138,462 trainable parameters\n"
          ]
        }
      ]
    },
    {
      "cell_type": "code",
      "source": [
        "optimizer = torch.optim.Adam(model.parameters())\n",
        "criterion = nn.CrossEntropyLoss(ignore_index=trg_vocab[pad_token])\n",
        "loss_history, train_loss_history, val_loss_history = [], [], []"
      ],
      "metadata": {
        "id": "GcMGEFF_QL18"
      },
      "execution_count": null,
      "outputs": []
    },
    {
      "cell_type": "code",
      "source": [
        "import matplotlib.pyplot as plt\n",
        "from IPython.display import clear_output\n",
        "from torch.nn.utils import clip_grad_norm_\n",
        "import time\n",
        "\n",
        "start_time = time.time()\n",
        "\n",
        "\n",
        "n_epochs = 10\n",
        "clip = 1\n",
        "for epoch in range(n_epochs):\n",
        "    model.train()\n",
        "    train_loss = 0\n",
        "    for src, trg in train_dataloader:\n",
        "        src, trg = src.to(device), trg.to(device)\n",
        "        output = model(src, trg)\n",
        "\n",
        "        output = output.view(-1, output.shape[-1])\n",
        "        trg = trg[1:].view(-1)\n",
        "\n",
        "        loss = criterion(output, trg)\n",
        "        optimizer.zero_grad()\n",
        "        loss.backward()\n",
        "        clip_grad_norm_(model.parameters(), clip)\n",
        "        optimizer.step()\n",
        "\n",
        "        train_loss += loss.item()\n",
        "        loss_history.append(loss.item())\n",
        "\n",
        "        if len(loss_history) % 10 == 0:\n",
        "            clear_output(wait=True)\n",
        "\n",
        "            plt.figure(figsize=(15, 5))\n",
        "\n",
        "            plt.subplot(121)\n",
        "            plt.plot(loss_history)\n",
        "            plt.xlabel(\"step\")\n",
        "\n",
        "            plt.subplot(122)\n",
        "            plt.plot(train_loss_history, label=\"train loss\")\n",
        "            plt.plot(val_loss_history, label=\"val loss\")\n",
        "            plt.xlabel(\"epoch\")\n",
        "            plt.legend()\n",
        "\n",
        "            plt.show()\n",
        "\n",
        "    train_loss /= len(train_dataloader)\n",
        "    train_loss_history.append(train_loss)\n",
        "\n",
        "    model.eval()\n",
        "    val_loss = 0\n",
        "    with torch.no_grad():\n",
        "        for src, trg in val_dataloader:\n",
        "            src, trg = src.to(device), trg.to(device)\n",
        "            output = model(src, trg)\n",
        "\n",
        "            output = output.view(-1, output.shape[-1])\n",
        "            trg = trg[1:].view(-1)\n",
        "\n",
        "            loss = criterion(output, trg)\n",
        "\n",
        "            val_loss += loss.item()\n",
        "\n",
        "    val_loss /= len(val_dataloader)\n",
        "    val_loss_history.append(val_loss)\n",
        "\n",
        "print(\"Number of epoches: %s\" % n_epochs)\n",
        "print(\"Training and validation time:  %s seconds \" % (time.time() - start_time))"
      ],
      "metadata": {
        "colab": {
          "base_uri": "https://localhost:8080/",
          "height": 703
        },
        "id": "uKOvZQnXbKQs",
        "outputId": "aab5648a-4ce4-425e-a957-1fbb26057318"
      },
      "execution_count": null,
      "outputs": [
        {
          "output_type": "display_data",
          "data": {
            "text/plain": [
              "<Figure size 1080x360 with 2 Axes>"
            ],
            "image/png": "[encoded data removed]"
          },
          "metadata": {
            "needs_background": "light"
          }
        },
        {
          "output_type": "error",
          "ename": "KeyboardInterrupt",
          "evalue": "ignored",
          "traceback": [
            "\u001b[0;31m---------------------------------------------------------------------------\u001b[0m",
            "\u001b[0;31mKeyboardInterrupt\u001b[0m                         Traceback (most recent call last)",
            "\u001b[0;32m<ipython-input-14-6bd235c2f79e>\u001b[0m in \u001b[0;36m<module>\u001b[0;34m()\u001b[0m\n\u001b[1;32m     22\u001b[0m         \u001b[0mloss\u001b[0m \u001b[0;34m=\u001b[0m \u001b[0mcriterion\u001b[0m\u001b[0;34m(\u001b[0m\u001b[0moutput\u001b[0m\u001b[0;34m,\u001b[0m \u001b[0mtrg\u001b[0m\u001b[0;34m)\u001b[0m\u001b[0;34m\u001b[0m\u001b[0;34m\u001b[0m\u001b[0m\n\u001b[1;32m     23\u001b[0m         \u001b[0moptimizer\u001b[0m\u001b[0;34m.\u001b[0m\u001b[0mzero_grad\u001b[0m\u001b[0;34m(\u001b[0m\u001b[0;34m)\u001b[0m\u001b[0;34m\u001b[0m\u001b[0;34m\u001b[0m\u001b[0m\n\u001b[0;32m---> 24\u001b[0;31m         \u001b[0mloss\u001b[0m\u001b[0;34m.\u001b[0m\u001b[0mbackward\u001b[0m\u001b[0;34m(\u001b[0m\u001b[0;34m)\u001b[0m\u001b[0;34m\u001b[0m\u001b[0;34m\u001b[0m\u001b[0m\n\u001b[0m\u001b[1;32m     25\u001b[0m         \u001b[0mclip_grad_norm_\u001b[0m\u001b[0;34m(\u001b[0m\u001b[0mmodel\u001b[0m\u001b[0;34m.\u001b[0m\u001b[0mparameters\u001b[0m\u001b[0;34m(\u001b[0m\u001b[0;34m)\u001b[0m\u001b[0;34m,\u001b[0m \u001b[0mclip\u001b[0m\u001b[0;34m)\u001b[0m\u001b[0;34m\u001b[0m\u001b[0;34m\u001b[0m\u001b[0m\n\u001b[1;32m     26\u001b[0m         \u001b[0moptimizer\u001b[0m\u001b[0;34m.\u001b[0m\u001b[0mstep\u001b[0m\u001b[0;34m(\u001b[0m\u001b[0;34m)\u001b[0m\u001b[0;34m\u001b[0m\u001b[0;34m\u001b[0m\u001b[0m\n",
            "\u001b[0;32m/usr/local/lib/python3.7/dist-packages/torch/_tensor.py\u001b[0m in \u001b[0;36mbackward\u001b[0;34m(self, gradient, retain_graph, create_graph, inputs)\u001b[0m\n\u001b[1;32m    361\u001b[0m                 \u001b[0mcreate_graph\u001b[0m\u001b[0;34m=\u001b[0m\u001b[0mcreate_graph\u001b[0m\u001b[0;34m,\u001b[0m\u001b[0;34m\u001b[0m\u001b[0;34m\u001b[0m\u001b[0m\n\u001b[1;32m    362\u001b[0m                 inputs=inputs)\n\u001b[0;32m--> 363\u001b[0;31m         \u001b[0mtorch\u001b[0m\u001b[0;34m.\u001b[0m\u001b[0mautograd\u001b[0m\u001b[0;34m.\u001b[0m\u001b[0mbackward\u001b[0m\u001b[0;34m(\u001b[0m\u001b[0mself\u001b[0m\u001b[0;34m,\u001b[0m \u001b[0mgradient\u001b[0m\u001b[0;34m,\u001b[0m \u001b[0mretain_graph\u001b[0m\u001b[0;34m,\u001b[0m \u001b[0mcreate_graph\u001b[0m\u001b[0;34m,\u001b[0m \u001b[0minputs\u001b[0m\u001b[0;34m=\u001b[0m\u001b[0minputs\u001b[0m\u001b[0;34m)\u001b[0m\u001b[0;34m\u001b[0m\u001b[0;34m\u001b[0m\u001b[0m\n\u001b[0m\u001b[1;32m    364\u001b[0m \u001b[0;34m\u001b[0m\u001b[0m\n\u001b[1;32m    365\u001b[0m     \u001b[0;32mdef\u001b[0m \u001b[0mregister_hook\u001b[0m\u001b[0;34m(\u001b[0m\u001b[0mself\u001b[0m\u001b[0;34m,\u001b[0m \u001b[0mhook\u001b[0m\u001b[0;34m)\u001b[0m\u001b[0;34m:\u001b[0m\u001b[0;34m\u001b[0m\u001b[0;34m\u001b[0m\u001b[0m\n",
            "\u001b[0;32m/usr/local/lib/python3.7/dist-packages/torch/autograd/__init__.py\u001b[0m in \u001b[0;36mbackward\u001b[0;34m(tensors, grad_tensors, retain_graph, create_graph, grad_variables, inputs)\u001b[0m\n\u001b[1;32m    173\u001b[0m     Variable._execution_engine.run_backward(  # Calls into the C++ engine to run the backward pass\n\u001b[1;32m    174\u001b[0m         \u001b[0mtensors\u001b[0m\u001b[0;34m,\u001b[0m \u001b[0mgrad_tensors_\u001b[0m\u001b[0;34m,\u001b[0m \u001b[0mretain_graph\u001b[0m\u001b[0;34m,\u001b[0m \u001b[0mcreate_graph\u001b[0m\u001b[0;34m,\u001b[0m \u001b[0minputs\u001b[0m\u001b[0;34m,\u001b[0m\u001b[0;34m\u001b[0m\u001b[0;34m\u001b[0m\u001b[0m\n\u001b[0;32m--> 175\u001b[0;31m         allow_unreachable=True, accumulate_grad=True)  # Calls into the C++ engine to run the backward pass\n\u001b[0m\u001b[1;32m    176\u001b[0m \u001b[0;34m\u001b[0m\u001b[0m\n\u001b[1;32m    177\u001b[0m def grad(\n",
            "\u001b[0;31mKeyboardInterrupt\u001b[0m: "
          ]
        }
      ]
    },
    {
      "cell_type": "markdown",
      "source": [
        "**Validation loss started increasing and I stopped training at this point. \\\n",
        "It took the model about 35 mins to train and validate on 6 epoches. It is much slower than the baseline model.**"
      ],
      "metadata": {
        "id": "oBJY9mmA_3eG"
      }
    },
    {
      "cell_type": "markdown",
      "source": [
        "### Evaluation"
      ],
      "metadata": {
        "id": "5PtzIypN_VmZ"
      }
    },
    {
      "cell_type": "code",
      "source": [
        "trg_itos = trg_vocab.get_itos()\n",
        "model.eval()\n",
        "max_len = 50\n",
        "with torch.no_grad():\n",
        "    for i, (src, trg) in enumerate(val_data):\n",
        "        encoded = encode(src, src_vocab)[::-1]\n",
        "        encoded = torch.tensor(encoded)[:, None].to(device)\n",
        "        hidden = model.encoder(encoded)\n",
        "\n",
        "        pred_tokens = [trg_vocab[sos_token]]\n",
        "        for _ in range(max_len):\n",
        "            decoder_input = torch.tensor([pred_tokens[-1]]).to(device)\n",
        "            pred, hidden = model.decoder(decoder_input, hidden)\n",
        "            _, pred_token = pred.max(dim=1)\n",
        "            if pred_token == trg_vocab[eos_token]:\n",
        "                break\n",
        "\n",
        "            pred_tokens.append(pred_token.item())\n",
        "\n",
        "        print(f\"src: '{src.rstrip().lower()}'\")\n",
        "        print(f\"trg: '{trg.rstrip().lower()}'\")\n",
        "        print(f\"pred: '{' '.join(trg_itos[i] for i in pred_tokens[1:])}'\")\n",
        "        print()\n",
        "\n",
        "        if i == 5:\n",
        "            break"
      ],
      "metadata": {
        "colab": {
          "base_uri": "https://localhost:8080/"
        },
        "id": "aGArIdc2_U7t",
        "outputId": "a975c4e6-5354-45bc-c2a5-b007e67fa1ee"
      },
      "execution_count": null,
      "outputs": [
        {
          "output_type": "stream",
          "name": "stdout",
          "text": [
            "src: 'all apartments have a dvd player and satellite tv, a kitchen with a microwave, and a washing machine and a tumble dryer.'\n",
            "trg: 'все они оснащены телевизором со спутниковыми каналами и dvd-плеером, а также располагают кухней с микроволновой печью и стиральной/сушильной машиной.'\n",
            "pred: 'в числе удобств удобств стиральная машина , стиральная машина , стиральная машина , стиральная машина , телевизор с плоским экраном и кабельными каналами .'\n",
            "\n",
            "src: 'they are fitted with blackout curtains, free drinking water and free toiletries.'\n",
            "trg: 'гостям предоставляется бесплатная питьевая вода и бесплатные туалетно-косметическими принадлежности.'\n",
            "pred: 'гостям предоставляются бесплатные туалетно - косметические принадлежности и <unk> <unk> <unk> <unk> <unk> <unk> <unk> <unk> <unk> .'\n",
            "\n",
            "src: 'a small refrigerator, coffee-making facilities and a work desk are included.'\n",
            "trg: 'к услугам гостей также небольшой холодильник, принадлежности для кофе и рабочий стол.'\n",
            "pred: 'гости могут пользоваться общей кухней , принадлежностями для чая / кофе .'\n",
            "\n",
            "src: 'only 250 metres away, paral•lel metro station offers direct links to plaça catalunya and montjuïc hill.'\n",
            "trg: 'всего в 250 метрах расположена станция метро paral•lel, откуда можно без пересадок добраться до площади каталонии и горы монжуик.'\n",
            "pred: 'от станции метро <unk> <unk> ( в 200 метрах от апартаментов <unk> <unk> <unk> , откуда можно легко добраться до до достопримечательностей и <unk> .'\n",
            "\n",
            "src: 'the apartment will provide you with a satellite tv and air conditioning.there is a full a kitchen with a dishwasher and a refrigerator.'\n",
            "trg: 'апартаменты оснащены кондиционером и спутниковым телевидением. полноценная кухня оборудована посудомоечной машиной и холодильником.'\n",
            "pred: 'в числе удобств полностью оборудованная кухня с посудомоечной машиной , dvd - плеером , а и dvd - плеер .'\n",
            "\n",
            "src: 'cooked breakfast is served each morning at monk coniston, with a buffet selection including cereals, fresh fruit, yoghurts, croissants and pastries. there is also porridge, toast, juice, tea and coffee.'\n",
            "trg: 'каждое утро в загородном доме monk coniston сервируют полный английский завтрак и завтрак «шведский стол» с зерновыми хлопьями, свежими фруктами, йогуртами, круассанами и выпечкой, а также овсянкой, тостами, соком, чаем и кофе.'\n",
            "pred: 'в отеле в отеле сервируется завтрак , с закусками , кофе , зерновыми хлопьями , зерновыми хлопьями , зерновыми хлопьями , зерновыми хлопьями , зерновыми хлопьями , <unk> и <unk> , <unk> и <unk> .'\n",
            "\n"
          ]
        }
      ]
    },
    {
      "cell_type": "code",
      "source": [
        "from nltk.translate.bleu_score import corpus_bleu\n",
        "\n",
        "\n",
        "references, hypotheses = [], []\n",
        "with torch.no_grad():\n",
        "    for src, trg in test_dataloader:\n",
        "        output = model(src.to(device), trg.to(device), teacher_forcing_ratio=0)\n",
        "        output = output.cpu().numpy().argmax(axis=2)\n",
        "\n",
        "        for i in range(trg.shape[1]):\n",
        "            reference = trg[:, i]\n",
        "            reference_tokens = [trg_itos[id_] for id_ in reference]\n",
        "            reference_tokens = [tok for tok in reference_tokens if tok not in specials]\n",
        "            references.append(reference_tokens)\n",
        "\n",
        "            hypothesis = output[:, i]\n",
        "            hypothesis_tokens = [trg_itos[id_] for id_ in hypothesis]\n",
        "            hypothesis_tokens = [tok for tok in hypothesis_tokens if tok not in specials]\n",
        "            hypotheses.append(hypothesis_tokens)\n",
        "\n",
        "# corpus_bleu works with multiple references\n",
        "bleu = corpus_bleu([[ref] for ref in references], hypotheses)\n",
        "print(f\"Your model shows test BLEU of {100 * bleu:.1f}\")"
      ],
      "metadata": {
        "colab": {
          "base_uri": "https://localhost:8080/"
        },
        "id": "L26bvTlabY4m",
        "outputId": "08b0adba-66bc-4f7d-9330-af7dcb995ddc"
      },
      "execution_count": null,
      "outputs": [
        {
          "output_type": "stream",
          "name": "stdout",
          "text": [
            "Your model shows test BLEU of 17.5\n"
          ]
        }
      ]
    },
    {
      "cell_type": "markdown",
      "source": [
        "**We can notice a significant increase in scores**"
      ],
      "metadata": {
        "id": "5z2O9OW7ApVy"
      }
    },
    {
      "cell_type": "markdown",
      "source": [
        "# Attention"
      ],
      "metadata": {
        "id": "KWuEa-fd-iyX"
      }
    },
    {
      "cell_type": "markdown",
      "source": [
        "**Now we'll apply Attention from decoder to encoder to the previous model.**"
      ],
      "metadata": {
        "id": "JZQf0fg8kAJb"
      }
    },
    {
      "cell_type": "code",
      "source": [
        "import random\n",
        "\n",
        "import torch.nn as nn\n",
        "\n",
        "\n",
        "class BidirectionalAttantionEncoder(nn.Module):\n",
        "    def __init__(self, n_tokens, emb_dim, hid_dim, n_layers, dropout):\n",
        "        super().__init__()\n",
        "\n",
        "        self.n_tokens = n_tokens\n",
        "        self.hid_dim = hid_dim\n",
        "        self.n_layers = n_layers\n",
        "\n",
        "        self.embedding = nn.Embedding(n_tokens, emb_dim)\n",
        "        self.dropout = nn.Dropout(dropout)\n",
        "        self.rnn = nn.LSTM(emb_dim, hid_dim, n_layers, dropout=dropout, bidirectional=True)\n",
        "\n",
        "    def forward(self, src):\n",
        "        embedded = self.embedding(src)\n",
        "        embedded = self.dropout(embedded)\n",
        "        output, hidden = self.rnn(embedded)\n",
        "        batch_size = src.shape[-1]\n",
        "        return output, (hidden[0].permute(1,0,2).reshape(batch_size, self.n_layers, -1).permute(1,0,2).contiguous(), \n",
        "                        hidden[1].permute(1,0,2).reshape(batch_size, self.n_layers, -1).permute(1,0,2).contiguous())\n",
        "\n",
        "\n",
        "class BidirectionalAttentionDecoder(nn.Module):\n",
        "    def __init__(self, n_tokens, emb_dim, hid_dim, n_layers, dropout, n_attn_heads):\n",
        "        super().__init__()\n",
        "        decoder_hid_dim = hid_dim * 2\n",
        "        self.n_tokens = n_tokens\n",
        "        self.hid_dim = hid_dim\n",
        "        self.n_layers = n_layers\n",
        "\n",
        "        self.embedding = nn.Embedding(n_tokens, emb_dim)\n",
        "        self.dropout = nn.Dropout(dropout)\n",
        "        self.rnn = nn.LSTM(emb_dim, decoder_hid_dim, n_layers, dropout=dropout)\n",
        "        self.attention = nn.MultiheadAttention(embed_dim=decoder_hid_dim, num_heads=n_attn_heads, dropout=dropout)\n",
        "        self.change_dim = nn.Linear(n_layers * decoder_hid_dim, decoder_hid_dim)\n",
        "        self.out = nn.Linear(decoder_hid_dim * 2, n_tokens)\n",
        "\n",
        "    def forward(self, input, hidden, encoder_output):\n",
        "        input = input.unsqueeze(dim=0)\n",
        "        embedded = self.embedding(input)\n",
        "        embedded = self.dropout(embedded)\n",
        "\n",
        "        output, (hidden, cell) = self.rnn(embedded, hidden)\n",
        "        batch_size = output.shape[1]\n",
        "        attn_hidden = (self.change_dim(hidden.permute(1,0,2).reshape(batch_size, 1, -1))).permute(1,0,2)\n",
        "        context, _ = self.attention(attn_hidden, encoder_output, encoder_output, need_weights=False)\n",
        "\n",
        "        pred = self.out(torch.cat((output.squeeze(dim=0), context.squeeze(dim=0)), dim=-1))\n",
        "        return pred, (hidden, cell)\n",
        "\n",
        "class AttentionSeq2Seq(nn.Module):\n",
        "    def __init__(self, encoder, decoder):\n",
        "        super().__init__()\n",
        "\n",
        "        self.encoder = encoder\n",
        "        self.decoder = decoder\n",
        "\n",
        "        assert encoder.hid_dim == decoder.hid_dim, \"encoder and decoder must have same hidden dim\"\n",
        "        assert (\n",
        "            encoder.n_layers == decoder.n_layers\n",
        "        ), \"encoder and decoder must have equal number of layers\"\n",
        "\n",
        "    def forward(self, src, trg, teacher_forcing_ratio=0.5):\n",
        "        trg_len, batch_size = trg.shape\n",
        "        preds = []\n",
        "        encoder_output, hidden = self.encoder(src)\n",
        "\n",
        "        # First input to the decoder is the <sos> token.\n",
        "        input = trg[0, :]\n",
        "        for i in range(1, trg_len):\n",
        "            pred, hidden = self.decoder(input, hidden, encoder_output)\n",
        "            preds.append(pred)\n",
        "            teacher_force = random.random() < teacher_forcing_ratio\n",
        "            _, top_pred = pred.max(dim=1)\n",
        "            input = trg[i, :] if teacher_force else top_pred\n",
        "\n",
        "        return torch.stack(preds)"
      ],
      "metadata": {
        "id": "cwPnQiZlhAwd"
      },
      "execution_count": null,
      "outputs": []
    },
    {
      "cell_type": "code",
      "source": [
        "device = torch.device(\"cuda:0\" if torch.cuda.is_available() else \"cpu\")\n",
        "enc = BidirectionalAttantionEncoder(len(src_vocab), emb_dim=256, hid_dim=512, n_layers=3, dropout=0.5)\n",
        "dec = BidirectionalAttentionDecoder(len(trg_vocab), emb_dim=256, hid_dim=512, n_layers=3, dropout=0.5, n_attn_heads=8)\n",
        "model = AttentionSeq2Seq(enc, dec).to(device)\n",
        "model.apply(init_weights);\n",
        "print(f\"The model has {count_parameters(model):,} trainable parameters\")"
      ],
      "metadata": {
        "colab": {
          "base_uri": "https://localhost:8080/"
        },
        "id": "rJi0Y9XZhBZl",
        "outputId": "52ee960c-45dd-4b04-dc19-a632b520cb9e"
      },
      "execution_count": null,
      "outputs": [
        {
          "output_type": "stream",
          "name": "stdout",
          "text": [
            "The model has 68,320,606 trainable parameters\n"
          ]
        }
      ]
    },
    {
      "cell_type": "code",
      "source": [
        "optimizer = torch.optim.Adam(model.parameters())\n",
        "criterion = nn.CrossEntropyLoss(ignore_index=trg_vocab[pad_token])\n",
        "loss_history, train_loss_history, val_loss_history = [], [], []"
      ],
      "metadata": {
        "id": "pm5IPrDGhB2f"
      },
      "execution_count": null,
      "outputs": []
    },
    {
      "cell_type": "code",
      "source": [
        "import matplotlib.pyplot as plt\n",
        "from IPython.display import clear_output\n",
        "from torch.nn.utils import clip_grad_norm_\n",
        "import time\n",
        "\n",
        "start_time = time.time()\n",
        "\n",
        "n_epochs = 50\n",
        "clip = 1\n",
        "steps_to_wait = 4\n",
        "for epoch in range(n_epochs):\n",
        "    model.train()\n",
        "    optimizer.zero_grad()\n",
        "\n",
        "    train_loss = 0\n",
        "    for i, (src, trg) in enumerate(train_dataloader):\n",
        "        src, trg = src.to(device), trg.to(device)\n",
        "        output = model(src, trg)\n",
        "\n",
        "        output = output.view(-1, output.shape[-1])\n",
        "        trg = trg[1:].view(-1)\n",
        "\n",
        "        loss = criterion(output, trg)\n",
        "        loss /= steps_to_wait\n",
        "        loss.backward()\n",
        "\n",
        "        clip_grad_norm_(model.parameters(), clip)\n",
        "\n",
        "        if (i + 1) % steps_to_wait == 0:\n",
        "            optimizer.step()\n",
        "            optimizer.zero_grad()\n",
        "\n",
        "        train_loss += loss.item()\n",
        "        loss_history.append(loss.item())\n",
        "\n",
        "        if len(loss_history) % 10 == 0:\n",
        "            clear_output(wait=True)\n",
        "\n",
        "            plt.figure(figsize=(15, 5))\n",
        "\n",
        "            plt.subplot(121)\n",
        "            plt.plot(loss_history)\n",
        "            plt.xlabel(\"step\")\n",
        "\n",
        "            plt.subplot(122)\n",
        "            plt.plot(train_loss_history, label=\"train loss\")\n",
        "            plt.plot(val_loss_history, label=\"val loss\")\n",
        "            plt.xlabel(\"epoch\")\n",
        "            plt.legend()\n",
        "\n",
        "            plt.show()\n",
        "\n",
        "    train_loss /= len(train_dataloader)\n",
        "    train_loss_history.append(train_loss)\n",
        "\n",
        "    model.eval()\n",
        "    val_loss = 0\n",
        "    with torch.no_grad():\n",
        "        for src, trg in val_dataloader:\n",
        "            src, trg = src.to(device), trg.to(device)\n",
        "            output = model(src, trg)\n",
        "\n",
        "            output = output.view(-1, output.shape[-1])\n",
        "            trg = trg[1:].view(-1)\n",
        "\n",
        "            loss = criterion(output, trg)\n",
        "\n",
        "            val_loss += loss.item()\n",
        "\n",
        "    val_loss /= len(val_dataloader)\n",
        "    val_loss_history.append(val_loss)\n",
        "\n",
        "print(\"Number of epoches: %s\" % n_epochs)\n",
        "print(\"Training and validation time:  %s seconds \" % (time.time() - start_time))"
      ],
      "metadata": {
        "colab": {
          "base_uri": "https://localhost:8080/",
          "height": 334
        },
        "id": "m2YWHJFDkjoN",
        "outputId": "9c900ffa-a661-43cd-9264-b960572d0eb9"
      },
      "execution_count": null,
      "outputs": [
        {
          "output_type": "display_data",
          "data": {
            "text/plain": [
              "<Figure size 1080x360 with 2 Axes>"
            ],
            "image/png": "[encoded data removed]"
          },
          "metadata": {
            "needs_background": "light"
          }
        }
      ]
    },
    {
      "cell_type": "code",
      "source": [
        "from nltk.translate.bleu_score import corpus_bleu\n",
        "\n",
        "\n",
        "references, hypotheses = [], []\n",
        "with torch.no_grad():\n",
        "    for src, trg in test_dataloader:\n",
        "        output = model(src.to(device), trg.to(device), teacher_forcing_ratio=0)\n",
        "        output = output.cpu().numpy().argmax(axis=2)\n",
        "\n",
        "        for i in range(trg.shape[1]):\n",
        "            reference = trg[:, i]\n",
        "            reference_tokens = [trg_itos[id_] for id_ in reference]\n",
        "            reference_tokens = [tok for tok in reference_tokens if tok not in specials]\n",
        "            references.append(reference_tokens)\n",
        "\n",
        "            hypothesis = output[:, i]\n",
        "            hypothesis_tokens = [trg_itos[id_] for id_ in hypothesis]\n",
        "            hypothesis_tokens = [tok for tok in hypothesis_tokens if tok not in specials]\n",
        "            hypotheses.append(hypothesis_tokens)\n",
        "\n",
        "# corpus_bleu works with multiple references\n",
        "bleu = corpus_bleu([[ref] for ref in references], hypotheses)\n",
        "print(f\"Your model shows test BLEU of {100 * bleu:.1f}\")"
      ],
      "metadata": {
        "id": "V0MPMeQhkmWj"
      },
      "execution_count": null,
      "outputs": []
    }
  ],
  "metadata": {
    "accelerator": "GPU",
    "anaconda-cloud": {},
    "colab": {
      "machine_shape": "hm",
      "provenance": []
    },
    "kernelspec": {
      "display_name": "Python 3 (ipykernel)",
      "language": "python",
      "name": "python3"
    },
    "language_info": {
      "codemirror_mode": {
        "name": "ipython",
        "version": 3
      },
      "file_extension": ".py",
      "mimetype": "text/x-python",
      "name": "python",
      "nbconvert_exporter": "python",
      "pygments_lexer": "ipython3",
      "version": "3.9.7"
    }
  },
  "nbformat": 4,
  "nbformat_minor": 0
}